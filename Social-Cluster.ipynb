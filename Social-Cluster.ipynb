{
 "cells": [
  {
   "cell_type": "markdown",
   "metadata": {},
   "source": [
    "# Analysing \"How ISIS Uses Twitter\" using social network cluster analysis\n",
    "## Approach\n",
    "The general approach will be to extract each unique user by their username to act as a node. The username has been chosen as the associated data on each node as it is unique unlike names which might not be. The scale of the node will be influenced by the a combination of the number of followers and the number of tweets they produce. This combination will ensure that active and popular users are identified rather than identifying those who tweet a lot and have a small amount of followers or vice versa.\n",
    "\n",
    "Currently the relation between each user is yet to be decided, as well as the number of followers, who those followers are would be useful to identify the relation between different users. One relation criteria might be to scrape the tweets of users for mentions and then link nodes via this metric with numerous mentions increasing the weight of an edge between two users. In this context two types of mentions could be identified, those that result in direct communication with a user and those mentions that come from retweeting a user. The former could be combined with language processing to determine the emotive qualities of the tweets to see if there are inner hostilities between ISIS supporters."
   ]
  },
  {
   "cell_type": "markdown",
   "metadata": {},
   "source": [
    "## First Steps\n",
    "Matplotlib, as always, will be used to provide visualizations of statistics gathered from the data. NetworkX is a useful graph library which allows for the visualization of graphs, its draw functions are directly linked to matplotlib allowing for similar looking visualizations to be created."
   ]
  },
  {
   "cell_type": "code",
   "execution_count": 24,
   "metadata": {
    "collapsed": false
   },
   "outputs": [],
   "source": [
    "import matplotlib.pyplot as plt\n",
    "import networkx as nx\n",
    "import pandas as pd\n",
    "%matplotlib inline\n",
    "\n",
    "dataset = pd.read_csv(\"data/tweets.csv\")"
   ]
  },
  {
   "cell_type": "markdown",
   "metadata": {},
   "source": [
    "The first interesting stat to find would be how many users in the dataset tweet each other?"
   ]
  },
  {
   "cell_type": "code",
   "execution_count": null,
   "metadata": {
    "collapsed": true
   },
   "outputs": [],
   "source": [
    "interesting = dataset['tweets'][10]\n",
    "interesting = interesting.split()\n",
    "for uname in interesting:\n",
    "    if uname in dataset['username'].unique():\n",
    "        print(uname)\n",
    "    else:\n",
    "        print(\"User: {} not in dataset\".format(uname))"
   ]
  }
 ],
 "metadata": {
  "kernelspec": {
   "display_name": "Python 3",
   "language": "python",
   "name": "python3"
  },
  "language_info": {
   "codemirror_mode": {
    "name": "ipython",
    "version": 3
   },
   "file_extension": ".py",
   "mimetype": "text/x-python",
   "name": "python",
   "nbconvert_exporter": "python",
   "pygments_lexer": "ipython3",
   "version": "3.5.1"
  }
 },
 "nbformat": 4,
 "nbformat_minor": 0
}
