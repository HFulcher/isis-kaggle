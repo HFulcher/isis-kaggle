{
 "cells": [
  {
   "cell_type": "markdown",
   "metadata": {},
   "source": [
    "# Analysing \"How ISIS Uses Twitter\" using social network cluster analysis\n",
    "## Approach\n",
    "The general approach will be to extract each unique user by their username to act as a node. The username has been chosen as the associated data on each node as it is unique unlike names which might not be. The scale of the node will be influenced by the a combination of the number of followers and the number of tweets they produce. This combination will ensure that active and popular users are identified rather than identifying those who tweet a lot and have a small amount of followers or vice versa.\n",
    "\n",
    "Currently the relation between each user is yet to be decided, as well as the number of followers, who those followers are would be useful to identify the relation between different users. One relation criteria might be to scrape the tweets of users for mentions and then link nodes via this metric with numerous mentions increasing the weight of an edge between two users. In this context two types of mentions could be identified, those that result in direct communication with a user and those mentions that come from retweeting a user. The former could be combined with language processing to determine the emotive qualities of the tweets to see if there are inner hostilities between ISIS supporters."
   ]
  },
  {
   "cell_type": "markdown",
   "metadata": {},
   "source": [
    "## First Steps\n",
    "Matplotlib, as always, will be used to provide visualizations of statistics gathered from the data. NetworkX is a useful graph library which allows for the visualization of graphs, its draw functions are directly linked to matplotlib allowing for similar looking visualizations to be created."
   ]
  },
  {
   "cell_type": "code",
   "execution_count": 98,
   "metadata": {
    "collapsed": false
   },
   "outputs": [],
   "source": [
    "%matplotlib inline\n",
    "import matplotlib.pyplot as plt\n",
    "import networkx as nx\n",
    "import pandas as pd\n",
    "import re\n",
    "import numpy as np\n",
    "from collections import Counter\n",
    "\n",
    "dataset = pd.read_csv(\"data/tweets.csv\")"
   ]
  },
  {
   "cell_type": "markdown",
   "metadata": {},
   "source": [
    "The first interesting stat to find would be how many users in the dataset tweet each other? The first two print commands are to check that there are no duplicate tweets which would skew results. The only disadvantage is that this relies on an exact string match, if retweets have been preceeded by an RT then this would not pick up duplicates.\n",
    "\n",
    "Using a regex expression we can catch those tweets that contain \"RT\" at the start of the tweet (indicating a retweet) and count them. Compared to the previous check we can see roughly 6000 tweets are not actually useful due to them being retweets. Despite this they are useful for future reference in testing what relation criteria to use."
   ]
  },
  {
   "cell_type": "code",
   "execution_count": 99,
   "metadata": {
    "collapsed": false
   },
   "outputs": [
    {
     "name": "stdout",
     "output_type": "stream",
     "text": [
      "Unique tweets: 17410\n",
      "All tweets: 17410\n"
     ]
    },
    {
     "data": {
      "text/plain": [
       "[<matplotlib.text.Text at 0x11ad28d68>, <matplotlib.text.Text at 0x11c281f28>]"
      ]
     },
     "execution_count": 99,
     "metadata": {},
     "output_type": "execute_result"
    },
    {
     "data": {
      "image/png": "[encoded data removed]",
      "text/plain": [
       "<matplotlib.figure.Figure at 0x117b08b00>"
      ]
     },
     "metadata": {},
     "output_type": "display_data"
    }
   ],
   "source": [
    "print(\"Unique tweets: {}\".format(len(dataset['tweets'].unique())))\n",
    "print(\"All tweets: {}\".format(len(dataset['tweets'])))\n",
    "\n",
    "retweets = []\n",
    "actual_tweets = []\n",
    "for user, tweet in zip(dataset['username'], dataset['tweets']):\n",
    "    match = re.search(r'^\\bRT\\b', tweet)\n",
    "    if match == None:\n",
    "        actual_tweets.append([user,tweet])\n",
    "    else:\n",
    "        retweets.append([user,tweet])   \n",
    "\n",
    "actual_tweets = np.array(actual_tweets)\n",
    "retweets = np.array(retweets)\n",
    "\n",
    "plt.bar([1,2], [len(actual_tweets[:,1]), len(retweets[:,1])], align='center')\n",
    "ax = plt.gca()\n",
    "ax.set_xticks([1,2])\n",
    "ax.set_xticklabels(['Actual Tweets', 'Retweets'])"
   ]
  },
  {
   "cell_type": "markdown",
   "metadata": {},
   "source": [
    "## Who talks about who?\n",
    "Now we have seperated the retweets and actual tweets and grouped them with their usernames we can proceed to perform some analysis on who is talking about who! Firstly we iterate through each tweet and scrape mentioned usernames from them. These usernames are then determined to either be users from within tweets.csv or not within tweets.csv. It is clear to see from the below bar chart that the majority of users mentioned are outside the scope of the dataset. This opens up another avenue for producing the social graph where a graph of all users mentioned can be constructed with colour defining those that are known (within the dataset) and those that aren't known (not within the dataset). For now we'll focus on those contained only within the dataset as this is a smaller set of users to work with."
   ]
  },
  {
   "cell_type": "code",
   "execution_count": 100,
   "metadata": {
    "collapsed": false
   },
   "outputs": [
    {
     "data": {
      "text/plain": [
       "[<matplotlib.text.Text at 0x11c1ebe48>, <matplotlib.text.Text at 0x117ace4e0>]"
      ]
     },
     "execution_count": 100,
     "metadata": {},
     "output_type": "execute_result"
    },
    {
     "data": {
      "image/png": "[encoded data removed]",
      "text/plain": [
       "<matplotlib.figure.Figure at 0x117a1bf60>"
      ]
     },
     "metadata": {},
     "output_type": "display_data"
    }
   ],
   "source": [
    "in_set = []\n",
    "not_in_set = []\n",
    "for record in actual_tweets:\n",
    "    match = re.findall(r'@\\w*', record[1])\n",
    "    if match != []:\n",
    "        for name in match:\n",
    "            if name[1:] in dataset['username'].unique():\n",
    "                in_set.append([record[0], name])\n",
    "            else:\n",
    "                not_in_set.append([record[0], name])\n",
    "\n",
    "in_set = np.array(in_set)\n",
    "not_in_set = np.array(not_in_set)\n",
    "\n",
    "plt.bar([1,2], [len(set(in_set[:,1])), len(set(not_in_set[:,1]))], align='center')\n",
    "ax = plt.gca()\n",
    "ax.set_xticks([1,2])\n",
    "ax.set_xticklabels(['Username in tweets.csv', 'Username not in tweets.csv'])"
   ]
  },
  {
   "cell_type": "markdown",
   "metadata": {},
   "source": [
    "To map out the most influential (most tweeted) users we need to count how many times they are mentioned. This is done via counting the in_set list, as can be seen below the most tweeted user currently (and by a large amount) is WarReporter1."
   ]
  },
  {
   "cell_type": "code",
   "execution_count": 101,
   "metadata": {
    "collapsed": false
   },
   "outputs": [
    {
     "name": "stdout",
     "output_type": "stream",
     "text": [
      "[('@WarReporter1', 131), ('@RamiAlLolah', 53), ('@Uncle_SamCoco', 48), ('@Nidalgazaui', 34), ('@ismailmahsud', 30)]\n"
     ]
    }
   ],
   "source": [
    "user_count = Counter(in_set[:,1])\n",
    "print(user_count.most_common(5))"
   ]
  },
  {
   "cell_type": "markdown",
   "metadata": {},
   "source": [
    "What is WarReporter1 all about? Looks like WarReporter1 is a feed reporting on conflicts but claims to be impartial, wonder why it was included in this set?"
   ]
  },
  {
   "cell_type": "code",
   "execution_count": 102,
   "metadata": {
    "collapsed": false
   },
   "outputs": [
    {
     "data": {
      "text/plain": [
       "array([nan, 'Reporting on conflicts in the MENA and Asia regions.',\n",
       "       'Reporting on conflicts in the MENA and Asia regions. Not affiliated to any group or movement.'], dtype=object)"
      ]
     },
     "execution_count": 102,
     "metadata": {},
     "output_type": "execute_result"
    }
   ],
   "source": [
    "dataset[dataset['username'] == 'WarReporter1']['description'].unique()"
   ]
  },
  {
   "cell_type": "markdown",
   "metadata": {},
   "source": [
    "After going on a tangent and looking at WarReporter1 let's map these \"most tweeted\" to a graph! (albeit no edges yet). For the time being these nodes will remain in a circle, the usernames haven't been added as labels yet as it looks hecka messy."
   ]
  },
  {
   "cell_type": "code",
   "execution_count": 103,
   "metadata": {
    "collapsed": false
   },
   "outputs": [
    {
     "data": {
      "image/png": "[encoded data removed]",
      "text/plain": [
       "<matplotlib.figure.Figure at 0x117ac9f60>"
      ]
     },
     "metadata": {},
     "output_type": "display_data"
    }
   ],
   "source": [
    "graph = nx.Graph()\n",
    "graph.add_nodes_from(user_count.keys())\n",
    "nx.draw(graph, node_size = [size*2 for key, size in user_count.items()])\n",
    "plt.show()"
   ]
  },
  {
   "cell_type": "code",
   "execution_count": null,
   "metadata": {
    "collapsed": false
   },
   "outputs": [],
   "source": []
  }
 ],
 "metadata": {
  "kernelspec": {
   "display_name": "Python 3",
   "language": "python",
   "name": "python3"
  },
  "language_info": {
   "codemirror_mode": {
    "name": "ipython",
    "version": 3
   },
   "file_extension": ".py",
   "mimetype": "text/x-python",
   "name": "python",
   "nbconvert_exporter": "python",
   "pygments_lexer": "ipython3",
   "version": "3.5.1"
  }
 },
 "nbformat": 4,
 "nbformat_minor": 0
}
